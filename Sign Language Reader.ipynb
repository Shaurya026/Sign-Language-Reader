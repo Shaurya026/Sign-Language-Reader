{
 "cells": [
  {
   "cell_type": "code",
   "execution_count": 1,
   "metadata": {},
   "outputs": [],
   "source": [
    "import tkinter as tk\n",
    "from tkinter import Message,Text\n",
    "from PIL import ImageTk,Image\n",
    "import cv2\n",
    "import numpy as np\n",
    "import keras\n",
    "import time\n",
    "import sys\n",
    "import keras\n",
    "from keras.models import load_model\n",
    "from keras import models,layers\n",
    "from keras import optimizers\n",
    "import tensorflow as tf"
   ]
  },
  {
   "cell_type": "code",
   "execution_count": 28,
   "metadata": {},
   "outputs": [],
   "source": [
    "window = tk.Tk()\n",
    "window.title(\"Sign Language Detection\")\n",
    "dialog_title = 'QUIT'\n",
    "dialog_text = 'Are you sure?'\n",
    "\n",
    "#window.attributes('-fullscreen', True)\n",
    "\n",
    "window.geometry('1400x760')\n",
    "window.grid_rowconfigure(0, weight=1)\n",
    "window.grid_columnconfigure(0, weight=1)\n",
    "\n",
    "image1= tk.PhotoImage(file = \"asl.png\")\n",
    "label_for_image= tk.Label(window, image=image1)\n",
    "label_for_image.pack()\n",
    "\n",
    "message = tk.Label(window, text=\"Sign Language Detector\" , fg='black' ,bg=\"white\"  ,width=20  ,height=3,font=('times', 30, 'italic bold underline'))\n",
    "message.place(x=450, y=400)\n",
    "\n",
    "lbl3 = tk.Label(window, text=\"Word(s) Detected:\",width=20  ,fg=\"black\"  ,bg=\"cyan\"  ,height=2 ,font=('times', 15, ' bold underline '))\n",
    "lbl3.place(x=300, y=560)\n",
    "\n",
    "message = tk.Label(window, text=\"\" ,bg=\"cyan\"  ,fg=\"black\"  ,width=35  ,height=2, activebackground = \"yellow\" ,font=('times', 15, ' bold '))\n",
    "message.place(x=600, y=560)\n",
    "\n",
    "res1 = \"\""
   ]
  },
  {
   "cell_type": "code",
   "execution_count": 29,
   "metadata": {},
   "outputs": [],
   "source": [
    "def clear():\n",
    "    global res1\n",
    "    res = \"\"\n",
    "    res1 = \"\"\n",
    "    message.configure(text= res)\n",
    "    \n",
    "def pronounce():\n",
    "    global res1\n",
    "    from win32com.client import Dispatch \n",
    "    speak = Dispatch(\"SAPI.Spvoice\") \n",
    "    speak.Speak(res1)\n",
    "    \n",
    "\n",
    "def real_time():\n",
    "    global res1\n",
    "    model = load_model('asl_alphabet.h5')\n",
    "    classes = ['a', 'b', 'c', 'd', 'e', 'f', 'g', 'h', 'i', 'j', 'k', 'l', 'm', 'n', 'o', 'p', 'q', 'r', 's', 't', 'u',\n",
    "               'v', 'w', 'x', 'y', 'z', 'del', ' ', 'Nothing']\n",
    "\n",
    "    cur_text = ''\n",
    "    cap = cv2.VideoCapture(0)\n",
    "\n",
    "    while (True):\n",
    "        ret, frame = cap.read()\n",
    "        cv2.rectangle(frame, (50, 50), (350, 350), (0, 255, 0), 3)\n",
    "\n",
    "        cropped_image = frame[50:350, 50:350]\n",
    "        resized_frame = cv2.resize(cropped_image, (200, 200))\n",
    "        reshaped_frame = (np.array(resized_frame)).reshape((1, 200, 200, 3))\n",
    "        frame_for_model = reshaped_frame / 255\n",
    "        prediction = np.array(model.predict(frame_for_model))\n",
    "        predicted_class = classes[prediction.argmax()]\n",
    "\n",
    "        prediction_probability = prediction[0, prediction.argmax()]\n",
    "        if prediction_probability > 0.2:\n",
    "            predicted_class_1 = None\n",
    "            if predicted_class == ' ':\n",
    "                predicted_class_1 = 'space'\n",
    "            else:\n",
    "                predicted_class_1 = predicted_class\n",
    "            cv2.putText(frame, '{} - {:.2f}%'.format(predicted_class_1, prediction_probability * 100),\n",
    "                        (10, 450), 1, 2, (255, 255, 0), 2, cv2.LINE_AA)\n",
    "            keypress = cv2.waitKey(1)\n",
    "            if keypress == ord('s'):\n",
    "                alph = predicted_class  # chr(num+96)\n",
    "                cur_text += alph\n",
    "                res1 += alph\n",
    "                print(cur_text)\n",
    "            elif keypress == ord('q'):\n",
    "                break\n",
    "        else:\n",
    "            cv2.putText(frame, 'space', (10, 450), 1, 2, (255, 255, 0), 2, cv2.LINE_AA)\n",
    "\n",
    "        cv2.imshow('frame', frame)\n",
    "\n",
    "        k = cv2.waitKey(1) & 0xFF\n",
    "        if k == ord('q'):\n",
    "            break\n",
    "\n",
    "    message.configure(text = cur_text)\n",
    "    cap.release()\n",
    "    cv2.destroyAllWindows()"
   ]
  },
  {
   "cell_type": "code",
   "execution_count": 30,
   "metadata": {},
   "outputs": [
    {
     "name": "stdout",
     "output_type": "stream",
     "text": [
      "c\n",
      "ca\n",
      "cab\n",
      "cab \n",
      "cab i\n",
      "cab is\n",
      "cab is \n",
      "cab is h\n",
      "cab is he\n",
      "cab is her\n",
      "cab is here\n"
     ]
    }
   ],
   "source": [
    "clearButton = tk.Button(window, text=\"Clear\", command=clear  ,fg=\"red\"  ,bg=\"orange\"  ,width=10  ,height=2 ,activebackground = \"Red\" ,font=('times', 15, ' bold '))\n",
    "clearButton.place(x=850, y=620)\n",
    "\n",
    "takeImg = tk.Button(window, text=\"Open Camera to detect\", command = real_time, fg=\"black\"  ,bg=\"yellow\"  ,width=20  ,height=3, activebackground = \"Red\" ,font=('times', 15, ' bold '))\n",
    "takeImg.place(x=20, y=600)\n",
    "\n",
    "photo = tk.PhotoImage(file= \"pro1.png\")\n",
    "speakup = tk.Button(window, image=photo, command = pronounce, bg=\"white\"  ,width=100  ,height=100, activebackground = \"Red\")\n",
    "speakup.place(x=700, y=620)\n",
    "\n",
    "quitWindow = tk.Button(window, text=\"Quit\", command=window.destroy  ,fg=\"white\"  ,bg=\"red\"  ,width=20  ,height=3, activebackground = \"Red\" ,font=('times', 15, ' bold '))\n",
    "quitWindow.place(x=1100, y=600)\n",
    "\n",
    "window.mainloop()"
   ]
  },
  {
   "cell_type": "code",
   "execution_count": null,
   "metadata": {},
   "outputs": [],
   "source": [
    "cap.release()\n",
    "cv2.destroyAllWindows()\n"
   ]
  }
 ],
 "metadata": {
  "kernelspec": {
   "display_name": "Python 3",
   "language": "python",
   "name": "python3"
  },
  "language_info": {
   "codemirror_mode": {
    "name": "ipython",
    "version": 3
   },
   "file_extension": ".py",
   "mimetype": "text/x-python",
   "name": "python",
   "nbconvert_exporter": "python",
   "pygments_lexer": "ipython3",
   "version": "3.8.3"
  }
 },
 "nbformat": 4,
 "nbformat_minor": 4
}
